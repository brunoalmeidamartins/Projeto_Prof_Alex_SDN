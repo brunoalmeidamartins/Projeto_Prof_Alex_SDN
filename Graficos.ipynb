{
 "cells": [
  {
   "cell_type": "code",
   "execution_count": 1,
   "metadata": {},
   "outputs": [],
   "source": [
    "import pandas as pd\n",
    "import numpy as np\n",
    "import seaborn as sb\n",
    "import matplotlib.pyplot as plt\n",
    "import os\n",
    "\n",
    "sb.set()"
   ]
  },
  {
   "cell_type": "code",
   "execution_count": 2,
   "metadata": {},
   "outputs": [],
   "source": [
    "arq = open('Medida_RTT/Pckt_32B/rtt_h1_2000.txt','r')\n",
    "#arq = open('Medida_RTT/Pckt_32B/rtt_h2_2002.txt','r')\n",
    "#arq = open('Medida_RTT/Pckt_32B/rtt_h3_2004.txt','r')\n",
    "#arq = open('Medida_RTT/Pckt_32B/rtt_h4_5001.txt','r')\n",
    "\n",
    "texto = arq.readlines()\n",
    "\n",
    "arq.close()\n",
    "\n",
    "i = 0\n",
    "t = 0\n",
    "vet_linhas = []\n",
    "vet_x = []\n",
    "for linha in texto:\n",
    "    if i > 5 and i % 2 == 1 and i < len(texto) -1:\n",
    "        vet_linhas.append(linha)\n",
    "        vet_x.append(t)\n",
    "        t += 1\n",
    "    i += 1\n",
    "\n",
    "vet_y = []\n",
    "for linha in vet_linhas:\n",
    "    linha = linha.split('/')[3]\n",
    "    linha = linha.replace(' us\\n','')\n",
    "    vet_y.append(int(linha))\n",
    "matriz = [vet_x,vet_y]"
   ]
  },
  {
   "cell_type": "code",
   "execution_count": null,
   "metadata": {},
   "outputs": [],
   "source": [
    "base = pd.DataFrame(matriz)\n",
    "base\n",
    "sb.pairplot(data=base)\n",
    "#sb.boxplot(data=base)\n",
    "#plt.show()"
   ]
  }
 ],
 "metadata": {
  "kernelspec": {
   "display_name": "Python 3",
   "language": "python",
   "name": "python3"
  },
  "language_info": {
   "codemirror_mode": {
    "name": "ipython",
    "version": 3
   },
   "file_extension": ".py",
   "mimetype": "text/x-python",
   "name": "python",
   "nbconvert_exporter": "python",
   "pygments_lexer": "ipython3",
   "version": "3.7.1"
  }
 },
 "nbformat": 4,
 "nbformat_minor": 2
}
